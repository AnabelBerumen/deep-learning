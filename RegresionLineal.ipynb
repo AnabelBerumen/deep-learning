{
  "nbformat": 4,
  "nbformat_minor": 0,
  "metadata": {
    "colab": {
      "name": "RegresionLineal.ipynb",
      "provenance": [],
      "include_colab_link": true
    },
    "kernelspec": {
      "name": "python3",
      "display_name": "Python 3"
    }
  },
  "cells": [
    {
      "cell_type": "markdown",
      "metadata": {
        "id": "view-in-github",
        "colab_type": "text"
      },
      "source": [
        "<a href=\"https://colab.research.google.com/github/AnabelBerumen/deep-learning/blob/master/RegresionLineal.ipynb\" target=\"_parent\"><img src=\"https://colab.research.google.com/assets/colab-badge.svg\" alt=\"Open In Colab\"/></a>"
      ]
    },
    {
      "cell_type": "code",
      "metadata": {
        "id": "Vf_5GENIR7rr",
        "colab_type": "code",
        "colab": {}
      },
      "source": [
        ""
      ],
      "execution_count": 0,
      "outputs": []
    },
    {
      "cell_type": "markdown",
      "metadata": {
        "id": "jGSVZMo0SH1H",
        "colab_type": "text"
      },
      "source": [
        "Modelo de datos simulados\n",
        "* y = a + b * x \n",
        "* x = 100 valores distribuídos *segun una N(1.5,2.5)\n",
        "**coordenas y predicciones**\n",
        "* ye = 9 + 1.8 * x\n",
        "* e estara distribuida según una N(0. 0.8) "
      ]
    },
    {
      "cell_type": "code",
      "metadata": {
        "id": "vugGA3hmSR9h",
        "colab_type": "code",
        "colab": {}
      },
      "source": [
        "\n",
        "import pandas as pd\n",
        "import numpy as np"
      ],
      "execution_count": 0,
      "outputs": []
    },
    {
      "cell_type": "code",
      "metadata": {
        "id": "tU0taks9ZO6b",
        "colab_type": "code",
        "colab": {}
      },
      "source": [
        "x = 1.5 + 1.5 * np.random.randn(100)"
      ],
      "execution_count": 0,
      "outputs": []
    },
    {
      "cell_type": "code",
      "metadata": {
        "id": "H4YiErMdZWTg",
        "colab_type": "code",
        "colab": {}
      },
      "source": [
        "res = 0 + 0.8 * np.random.randn(100)"
      ],
      "execution_count": 0,
      "outputs": []
    },
    {
      "cell_type": "code",
      "metadata": {
        "id": "xvLlqFpzZtcK",
        "colab_type": "code",
        "colab": {}
      },
      "source": [
        "y_pred = 5 + 1.9 * x"
      ],
      "execution_count": 0,
      "outputs": []
    },
    {
      "cell_type": "code",
      "metadata": {
        "id": "KXkMGxQNZyKL",
        "colab_type": "code",
        "colab": {}
      },
      "source": [
        "y_act = 5 + 1.9 * x + res"
      ],
      "execution_count": 0,
      "outputs": []
    },
    {
      "cell_type": "code",
      "metadata": {
        "id": "unk_J6UfZ3kp",
        "colab_type": "code",
        "colab": {}
      },
      "source": [
        "x_list = x.tolist()\n",
        "y_pred_list = y_pred.tolist()\n",
        "y_act_list = y_act.tolist()"
      ],
      "execution_count": 0,
      "outputs": []
    },
    {
      "cell_type": "code",
      "metadata": {
        "id": "pQTF6f43aJcp",
        "colab_type": "code",
        "colab": {}
      },
      "source": [
        "#creamos el diccionario\n",
        "data = pd.DataFrame(\n",
        "    {\n",
        "        \"x\":x_list,\n",
        "        \"y_actual\":y_act_list,\n",
        "        \"y_prediccion\":y_pred_list\n",
        "    }\n",
        ")\n",
        "\n"
      ],
      "execution_count": 0,
      "outputs": []
    },
    {
      "cell_type": "code",
      "metadata": {
        "id": "wVgjECt8aMVi",
        "colab_type": "code",
        "colab": {
          "base_uri": "https://localhost:8080/",
          "height": 206
        },
        "outputId": "5d9294b7-b3b0-4e55-fce3-d1598bd7be0e"
      },
      "source": [
        "data.head()"
      ],
      "execution_count": 18,
      "outputs": [
        {
          "output_type": "execute_result",
          "data": {
            "text/html": [
              "<div>\n",
              "<style scoped>\n",
              "    .dataframe tbody tr th:only-of-type {\n",
              "        vertical-align: middle;\n",
              "    }\n",
              "\n",
              "    .dataframe tbody tr th {\n",
              "        vertical-align: top;\n",
              "    }\n",
              "\n",
              "    .dataframe thead th {\n",
              "        text-align: right;\n",
              "    }\n",
              "</style>\n",
              "<table border=\"1\" class=\"dataframe\">\n",
              "  <thead>\n",
              "    <tr style=\"text-align: right;\">\n",
              "      <th></th>\n",
              "      <th>x</th>\n",
              "      <th>y_actual</th>\n",
              "      <th>y_prediccion</th>\n",
              "    </tr>\n",
              "  </thead>\n",
              "  <tbody>\n",
              "    <tr>\n",
              "      <th>0</th>\n",
              "      <td>1.432820</td>\n",
              "      <td>7.077936</td>\n",
              "      <td>7.722358</td>\n",
              "    </tr>\n",
              "    <tr>\n",
              "      <th>1</th>\n",
              "      <td>-1.108984</td>\n",
              "      <td>2.653557</td>\n",
              "      <td>2.892930</td>\n",
              "    </tr>\n",
              "    <tr>\n",
              "      <th>2</th>\n",
              "      <td>1.141700</td>\n",
              "      <td>6.468455</td>\n",
              "      <td>7.169230</td>\n",
              "    </tr>\n",
              "    <tr>\n",
              "      <th>3</th>\n",
              "      <td>-0.592225</td>\n",
              "      <td>4.667930</td>\n",
              "      <td>3.874772</td>\n",
              "    </tr>\n",
              "    <tr>\n",
              "      <th>4</th>\n",
              "      <td>1.023100</td>\n",
              "      <td>8.006141</td>\n",
              "      <td>6.943889</td>\n",
              "    </tr>\n",
              "  </tbody>\n",
              "</table>\n",
              "</div>"
            ],
            "text/plain": [
              "          x  y_actual  y_prediccion\n",
              "0  1.432820  7.077936      7.722358\n",
              "1 -1.108984  2.653557      2.892930\n",
              "2  1.141700  6.468455      7.169230\n",
              "3 -0.592225  4.667930      3.874772\n",
              "4  1.023100  8.006141      6.943889"
            ]
          },
          "metadata": {
            "tags": []
          },
          "execution_count": 18
        }
      ]
    },
    {
      "cell_type": "code",
      "metadata": {
        "id": "mWWFBmx4bWZy",
        "colab_type": "code",
        "colab": {}
      },
      "source": [
        "import matplotlib.pyplot as plt\n"
      ],
      "execution_count": 0,
      "outputs": []
    },
    {
      "cell_type": "code",
      "metadata": {
        "id": "pI-5LEjgeejC",
        "colab_type": "code",
        "colab": {}
      },
      "source": [
        "y_mean = [np.mean(y_act)for i in range(1, len(x_list) + 1)]"
      ],
      "execution_count": 0,
      "outputs": []
    },
    {
      "cell_type": "code",
      "metadata": {
        "id": "tiet-dPmb4Wj",
        "colab_type": "code",
        "colab": {
          "base_uri": "https://localhost:8080/",
          "height": 299
        },
        "outputId": "3dc1f3f4-539e-4d17-e038-7df815794fe2"
      },
      "source": [
        "%matplotlib inline\n",
        "plt.plot(x,y_pred)\n",
        "plt.plot(x,y_act,\"ro\")\n",
        "plt.plot(x,y_mean,\"g\")\n",
        "plt.title(\"Valor actual vs predicción\")"
      ],
      "execution_count": 26,
      "outputs": [
        {
          "output_type": "execute_result",
          "data": {
            "text/plain": [
              "Text(0.5, 1.0, 'Valor actual vs predicción')"
            ]
          },
          "metadata": {
            "tags": []
          },
          "execution_count": 26
        },
        {
          "output_type": "display_data",
          "data": {
            "image/png": "[encoded data removed]",
            "text/plain": [
              "<Figure size 432x288 with 1 Axes>"
            ]
          },
          "metadata": {
            "tags": []
          }
        }
      ]
    },
    {
      "cell_type": "code",
      "metadata": {
        "id": "znGJq_tscKZR",
        "colab_type": "code",
        "colab": {}
      },
      "source": [
        ""
      ],
      "execution_count": 0,
      "outputs": []
    }
  ]
}